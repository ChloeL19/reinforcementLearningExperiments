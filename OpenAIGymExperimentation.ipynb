{
 "cells": [
  {
   "cell_type": "code",
   "execution_count": 1,
   "metadata": {
    "collapsed": false
   },
   "outputs": [
    {
     "name": "stdout",
     "output_type": "stream",
     "text": [
      "Collecting cmake\n",
      "\u001b[?25l  Downloading https://files.pythonhosted.org/packages/f6/01/f333dd17058e254eb4e1c1ba882319b8fdd23d0f953c909e1703bf37f7d9/cmake-3.13.3-cp35-cp35m-macosx_10_6_x86_64.whl (36.4MB)\n",
      "\u001b[K    100% |████████████████████████████████| 36.4MB 384kB/s \n",
      "\u001b[?25hCollecting gym[atari]\n",
      "\u001b[?25l  Downloading https://files.pythonhosted.org/packages/7b/57/e2fc4123ff2b4e3d61ae9b3d08c6878aecf2d5ec69b585ed53bc2400607f/gym-0.12.1.tar.gz (1.5MB)\n",
      "\u001b[K    100% |████████████████████████████████| 1.5MB 2.9MB/s \n",
      "\u001b[?25hRequirement already satisfied: scipy in /Users/chloeloughridge/anaconda/lib/python3.5/site-packages (1.1.0)\n",
      "Requirement already satisfied: numpy>=1.10.4 in /Users/chloeloughridge/anaconda/lib/python3.5/site-packages (from gym[atari]) (1.14.2)\n",
      "Requirement already satisfied: requests>=2.0 in /Users/chloeloughridge/anaconda/lib/python3.5/site-packages (from gym[atari]) (2.19.1)\n",
      "Requirement already satisfied: six in /Users/chloeloughridge/anaconda/lib/python3.5/site-packages (from gym[atari]) (1.10.0)\n",
      "Collecting pyglet>=1.2.0 (from gym[atari])\n",
      "\u001b[?25l  Downloading https://files.pythonhosted.org/packages/1c/fc/dad5eaaab68f0c21e2f906a94ddb98175662cc5a654eee404d59554ce0fa/pyglet-1.3.2-py2.py3-none-any.whl (1.0MB)\n",
      "\u001b[K    100% |████████████████████████████████| 1.0MB 3.5MB/s \n",
      "\u001b[?25hCollecting atari_py>=0.1.4 (from gym[atari])\n",
      "\u001b[?25l  Downloading https://files.pythonhosted.org/packages/03/b3/3cddffed8085e344bd9e646b1b574117cc46bd1c4907aa2de1f1e072ba9c/atari_py-0.1.7-cp35-cp35m-macosx_10_6_intel.macosx_10_9_intel.macosx_10_9_x86_64.macosx_10_10_intel.macosx_10_10_x86_64.whl (3.3MB)\n",
      "\u001b[K    100% |████████████████████████████████| 3.3MB 4.3MB/s \n",
      "\u001b[?25hRequirement already satisfied: Pillow in /Users/chloeloughridge/anaconda/lib/python3.5/site-packages (from gym[atari]) (4.2.1)\n",
      "Collecting PyOpenGL (from gym[atari])\n",
      "\u001b[?25l  Downloading https://files.pythonhosted.org/packages/9c/1d/4544708aaa89f26c97cc09450bb333a23724a320923e74d73e028b3560f9/PyOpenGL-3.1.0.tar.gz (1.2MB)\n",
      "\u001b[K    100% |████████████████████████████████| 1.2MB 6.1MB/s \n",
      "\u001b[?25hRequirement already satisfied: chardet<3.1.0,>=3.0.2 in /Users/chloeloughridge/anaconda/lib/python3.5/site-packages (from requests>=2.0->gym[atari]) (3.0.4)\n",
      "Requirement already satisfied: certifi>=2017.4.17 in /Users/chloeloughridge/anaconda/lib/python3.5/site-packages (from requests>=2.0->gym[atari]) (2018.4.16)\n",
      "Requirement already satisfied: urllib3<1.24,>=1.21.1 in /Users/chloeloughridge/anaconda/lib/python3.5/site-packages (from requests>=2.0->gym[atari]) (1.23)\n",
      "Requirement already satisfied: idna<2.8,>=2.5 in /Users/chloeloughridge/anaconda/lib/python3.5/site-packages (from requests>=2.0->gym[atari]) (2.7)\n",
      "Collecting future (from pyglet>=1.2.0->gym[atari])\n",
      "\u001b[?25l  Downloading https://files.pythonhosted.org/packages/90/52/e20466b85000a181e1e144fd8305caf2cf475e2f9674e797b222f8105f5f/future-0.17.1.tar.gz (829kB)\n",
      "\u001b[K    100% |████████████████████████████████| 829kB 6.1MB/s \n",
      "\u001b[?25hRequirement already satisfied: olefile in /Users/chloeloughridge/anaconda/lib/python3.5/site-packages (from Pillow->gym[atari]) (0.45.1)\n",
      "Building wheels for collected packages: gym, PyOpenGL, future\n",
      "  Running setup.py bdist_wheel for gym ... \u001b[?25l-\b \b\\\b \b|\b \b/\b \b-\b \bdone\n",
      "\u001b[?25h  Stored in directory: /Users/chloeloughridge/Library/Caches/pip/wheels/57/b0/13/4153e1acab826fbe612c95b1336a63a3fa6416902a8d74a1b7\n",
      "  Running setup.py bdist_wheel for PyOpenGL ... \u001b[?25l-\b \b\\\b \b|\b \b/\b \b-\b \b\\\b \b|\b \b/\b \b-\b \b\\\b \b|\b \b/\b \b-\b \b\\\b \b|\b \b/\b \b-\b \b\\\b \b|\b \b/\b \b-\b \b\\\b \b|\b \bdone\n",
      "\u001b[?25h  Stored in directory: /Users/chloeloughridge/Library/Caches/pip/wheels/6c/00/7f/1dd736f380848720ad79a1a1de5272e0d3f79c15a42968fb58\n",
      "  Running setup.py bdist_wheel for future ... \u001b[?25l-\b \b\\\b \b|\b \b/\b \bdone\n",
      "\u001b[?25h  Stored in directory: /Users/chloeloughridge/Library/Caches/pip/wheels/0c/61/d2/d6b7317325828fbb39ee6ad559dbe4664d0896da4721bf379e\n",
      "Successfully built gym PyOpenGL future\n",
      "Installing collected packages: cmake, future, pyglet, atari-py, PyOpenGL, gym\n",
      "Successfully installed PyOpenGL-3.1.0 atari-py-0.1.7 cmake-3.13.3 future-0.17.1 gym-0.12.1 pyglet-1.3.2\n",
      "\u001b[33mYou are using pip version 18.1, however version 19.0.3 is available.\n",
      "You should consider upgrading via the 'pip install --upgrade pip' command.\u001b[0m\n"
     ]
    }
   ],
   "source": [
    "#inspiration from here https://www.learndatasci.com/tutorials/reinforcement-q-learning-scratch-python-openai-gym/\n",
    "!pip install cmake 'gym[atari]' scipy"
   ]
  },
  {
   "cell_type": "code",
   "execution_count": 2,
   "metadata": {
    "collapsed": true
   },
   "outputs": [],
   "source": [
    "import gym"
   ]
  },
  {
   "cell_type": "code",
   "execution_count": 3,
   "metadata": {
    "collapsed": false
   },
   "outputs": [
    {
     "name": "stdout",
     "output_type": "stream",
     "text": [
      "+---------+\n",
      "|\u001b[34;1mR\u001b[0m: | : :\u001b[35mG\u001b[0m|\n",
      "| : : : : |\n",
      "| : : : : |\n",
      "| | :\u001b[43m \u001b[0m| : |\n",
      "|Y| : |B: |\n",
      "+---------+\n",
      "\n"
     ]
    }
   ],
   "source": [
    "env = gym.make(\"Taxi-v2\").env\n",
    "env.render()"
   ]
  },
  {
   "cell_type": "code",
   "execution_count": null,
   "metadata": {
    "collapsed": true
   },
   "outputs": [],
   "source": []
  }
 ],
 "metadata": {
  "anaconda-cloud": {},
  "kernelspec": {
   "display_name": "Python [default]",
   "language": "python",
   "name": "python3"
  },
  "language_info": {
   "codemirror_mode": {
    "name": "ipython",
    "version": 3
   },
   "file_extension": ".py",
   "mimetype": "text/x-python",
   "name": "python",
   "nbconvert_exporter": "python",
   "pygments_lexer": "ipython3",
   "version": "3.5.5"
  }
 },
 "nbformat": 4,
 "nbformat_minor": 2
}
